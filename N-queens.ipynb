{
 "cells": [
  {
   "cell_type": "code",
   "execution_count": 7,
   "metadata": {
    "collapsed": true
   },
   "outputs": [],
   "source": [
    "def pp(two_dim_array):\n",
    "    s = [[str(e) for e in row] for row in two_dim_array]\n",
    "    for row in s:\n",
    "        for val in row:\n",
    "            print '{:2}'.format(val),\n",
    "        print"
   ]
  },
  {
   "cell_type": "code",
   "execution_count": 8,
   "metadata": {
    "collapsed": true
   },
   "outputs": [],
   "source": [
    "def is_conflict(pos,queen):\n",
    "    i,j = pos\n",
    "    r,c = queen\n",
    "    if j != c :\n",
    "        gap = abs(j-c)\n",
    "        if r!=i and r+gap!=i and r-gap != i:\n",
    "            return False\n",
    "        else:\n",
    "            return True\n",
    "    else:\n",
    "        return True"
   ]
  },
  {
   "cell_type": "code",
   "execution_count": 9,
   "metadata": {
    "collapsed": false
   },
   "outputs": [],
   "source": [
    "class State:\n",
    "    def __init__(self,has_queen_list):\n",
    "        self.has_queen_list = has_queen_list\n",
    "    def get_board_array(self):\n",
    "        board_array = [[0 for i in range(len(self.has_queen_list))] for j in range(len(self.has_queen_list))]\n",
    "        for k in range(len(self.has_queen_list)):\n",
    "            if self.has_queen_list[k] is not None:\n",
    "                board_array[self.has_queen_list[k]][k] = 1\n",
    "        return board_array   \n",
    "    def get_children_list(self):\n",
    "        queen_post = filter(lambda (x,y): x !=None,[(j,i) for i, j in enumerate(self.has_queen_list)])\n",
    "        c_list = []\n",
    "        for i in range(len(self.has_queen_list)):\n",
    "            for j in range(len(self.has_queen_list)):\n",
    "                conflict = False\n",
    "                for k in queen_post:\n",
    "                    if is_conflict((i,j),k):\n",
    "                        conflict = True\n",
    "                if not conflict:\n",
    "                    c_list.append((i,j))\n",
    "        return c_list"
   ]
  },
  {
   "cell_type": "code",
   "execution_count": 10,
   "metadata": {
    "collapsed": true
   },
   "outputs": [],
   "source": [
    "def put_queen(queen_pos,state):\n",
    "    row_ind,col_ind = queen_pos\n",
    "    new_has_queen_list = list(state.has_queen_list)\n",
    "    new_has_queen_list[col_ind] = row_ind\n",
    "    return new_has_queen_list"
   ]
  },
  {
   "cell_type": "code",
   "execution_count": 46,
   "metadata": {
    "collapsed": false
   },
   "outputs": [],
   "source": [
    "def _put_queen(state):\n",
    "    new_queen_list = list(state.has_queen_list)\n",
    "    new_child_list = list(state.get_children_list())\n",
    "    print new_queen_list\n",
    "\n",
    "    if len(new_child_list) == 0:   # 沒小孩了\n",
    "        if not None in new_queen_list:  #擺滿皇后 --> 成功\n",
    "#             return [new_queen_list]\n",
    "            return new_queen_list\n",
    "        else:                           #皇后沒擺滿 --> 失敗\n",
    "            return\n",
    "    else:                       # 還有小孩           \n",
    "        if len(new_child_list)<new_queen_list.count(None):  #小孩少於空位 --> 失敗\n",
    "            return\n",
    "#         else:\n",
    "#             result = []\n",
    "#             for i in new_child_list:\n",
    "#                 next_state = State(put_queen(i,state)) #做新的node\n",
    "#                 tmp_res = _put_queen(next_state)\n",
    "#                 print tmp_res\n",
    "#                 if tmp_res is not None:\n",
    "#                     for i in tmp_res:\n",
    "#                         if i not in result:\n",
    "#                             result=result+tmp_res\n",
    "#             return result\n",
    "        else:\n",
    "            for i in new_child_list:\n",
    "                next_state = State(put_queen(i,state)) #做新的node\n",
    "                tmp = _put_queen(next_state)\n",
    "                if tmp is not None:\n",
    "                    return tmp\n",
    "                    break"
   ]
  },
  {
   "cell_type": "code",
   "execution_count": 47,
   "metadata": {
    "collapsed": true
   },
   "outputs": [],
   "source": [
    "def main(N):\n",
    "    init_has_queen_list = [None for i in range(N)]\n",
    "    init_state = State(init_has_queen_list)\n",
    "    return _put_queen(init_state)"
   ]
  },
  {
   "cell_type": "code",
   "execution_count": 50,
   "metadata": {
    "collapsed": false,
    "scrolled": true
   },
   "outputs": [
    {
     "name": "stdout",
     "output_type": "stream",
     "text": [
      "[None, None, None, None]\n",
      "[0, None, None, None]\n",
      "[0, None, 1, None]\n",
      "[0, None, None, 1]\n",
      "[0, 2, None, 1]\n",
      "[0, None, 3, 1]\n",
      "[0, 2, None, None]\n",
      "[0, None, None, 2]\n",
      "[0, 3, None, None]\n",
      "[0, 3, 1, None]\n",
      "[0, 3, None, 2]\n",
      "[0, None, 3, None]\n",
      "[None, 0, None, None]\n",
      "[None, 0, None, 1]\n",
      "[2, 0, None, 1]\n",
      "[2, 0, 3, 1]\n"
     ]
    },
    {
     "data": {
      "text/plain": [
       "[2, 0, 3, 1]"
      ]
     },
     "execution_count": 50,
     "metadata": {},
     "output_type": "execute_result"
    }
   ],
   "source": [
    "main(4)"
   ]
  },
  {
   "cell_type": "code",
   "execution_count": null,
   "metadata": {
    "collapsed": true
   },
   "outputs": [],
   "source": []
  }
 ],
 "metadata": {
  "kernelspec": {
   "display_name": "Python 2",
   "language": "python",
   "name": "python2"
  },
  "language_info": {
   "codemirror_mode": {
    "name": "ipython",
    "version": 2
   },
   "file_extension": ".py",
   "mimetype": "text/x-python",
   "name": "python",
   "nbconvert_exporter": "python",
   "pygments_lexer": "ipython2",
   "version": "2.7.10"
  }
 },
 "nbformat": 4,
 "nbformat_minor": 1
}
